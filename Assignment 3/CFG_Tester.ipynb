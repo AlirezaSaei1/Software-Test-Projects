{
 "cells": [
  {
   "cell_type": "markdown",
   "metadata": {},
   "source": [
    "# CFG Tester Code"
   ]
  },
  {
   "cell_type": "markdown",
   "metadata": {},
   "source": [
    "### Required Libraries"
   ]
  },
  {
   "cell_type": "code",
   "execution_count": 119,
   "metadata": {},
   "outputs": [],
   "source": [
    "import json\n",
    "import networkx as nx\n",
    "import matplotlib.pyplot as plt"
   ]
  },
  {
   "cell_type": "markdown",
   "metadata": {},
   "source": [
    "### Read Graph Infor from JSON"
   ]
  },
  {
   "cell_type": "code",
   "execution_count": 120,
   "metadata": {},
   "outputs": [],
   "source": [
    "def readGraphFromJSON(file_path):\n",
    "    with open(file_path, 'r') as file:\n",
    "        data = json.load(file)\n",
    "\n",
    "    edges = data['edges']\n",
    "    nodes = data['nodes']\n",
    "    initial_nodes = data['initial_nodes']\n",
    "    end_nodes = data['end_nodes']\n",
    "\n",
    "    return edges, nodes, initial_nodes, end_nodes\n",
    "\n",
    "file_path = 'Graphs/Graph1.json'\n",
    "edges, nodes, initial_nodes, end_nodes = readGraphFromJSON(file_path)"
   ]
  },
  {
   "cell_type": "markdown",
   "metadata": {},
   "source": [
    "### Create a directed graph"
   ]
  },
  {
   "cell_type": "code",
   "execution_count": 121,
   "metadata": {},
   "outputs": [],
   "source": [
    "def define_graph(edges, nodes, initial_nodes, end_nodes):\n",
    "    # Create an empty graph\n",
    "    graph = nx.DiGraph()\n",
    "    \n",
    "    # Add nodes to the graph\n",
    "    graph.add_nodes_from(nodes)\n",
    "    \n",
    "    # Add edges to the graph\n",
    "    graph.add_edges_from(edges)\n",
    "    \n",
    "    return graph, initial_nodes, end_nodes\n",
    "\n",
    "\n",
    "graph, initial_nodes, end_nodes = define_graph(edges, nodes, initial_nodes, end_nodes)"
   ]
  },
  {
   "cell_type": "markdown",
   "metadata": {},
   "source": [
    "### Plot graph"
   ]
  },
  {
   "cell_type": "code",
   "execution_count": 122,
   "metadata": {},
   "outputs": [
    {
     "data": {
      "image/png": "[encoded data removed]",
      "text/plain": [
       "<Figure size 640x480 with 1 Axes>"
      ]
     },
     "metadata": {},
     "output_type": "display_data"
    }
   ],
   "source": [
    "pos = nx.spring_layout(graph)  # Positions of the nodes\n",
    "nx.draw(graph, pos, with_labels=True, node_size=500, font_size=12, font_weight='bold')\n",
    "\n",
    "# Draw start and end nodes with different colors\n",
    "nx.draw_networkx_nodes(graph, pos, nodelist=initial_nodes, node_color='green', node_size=500)\n",
    "nx.draw_networkx_nodes(graph, pos, nodelist=end_nodes, node_color='red', node_size=500)\n",
    "\n",
    "plt.show()"
   ]
  },
  {
   "cell_type": "markdown",
   "metadata": {},
   "source": [
    "### Extract Prime Paths"
   ]
  },
  {
   "cell_type": "code",
   "execution_count": 123,
   "metadata": {},
   "outputs": [],
   "source": [
    "def isPrimePath(path, graph):\n",
    "    if len(path) >= 2 and path[0] == path[-1]:\n",
    "        return True\n",
    "    elif reachedHead(path, graph) and reachedEnd(path, graph):\n",
    "        return True\n",
    "    else:\n",
    "        return False\n",
    "\n",
    "\n",
    "def reachedHead(path, graph):\n",
    "    former_nodes = [n for n in graph.predecessors(path[0])]\n",
    "    for n in former_nodes:\n",
    "        if n not in path or n == path[-1]:\n",
    "            return False\n",
    "    return True\n",
    "\n",
    "\n",
    "def reachedEnd(path, graph):\n",
    "    later_nodes = [n for n in graph.successors(path[-1])]\n",
    "    for n in later_nodes:\n",
    "        if n not in path or n == path[0]:\n",
    "            return False\n",
    "    return True\n",
    "\n",
    "\n",
    "def extendable(path, graph):\n",
    "    if isPrimePath(path, graph) or reachedEnd(path, graph):\n",
    "        return False\n",
    "    else:\n",
    "        return True\n",
    "\n",
    "\n",
    "def findSimplePath(graph, exPaths, paths=[]):\n",
    "    paths.extend(filter(lambda p: isPrimePath(p, graph), exPaths))\n",
    "    exPaths = filter(lambda p: extendable(p, graph), exPaths)\n",
    "    newExPaths = []\n",
    "    for p in exPaths:\n",
    "        for nx in graph.successors(p[-1]):\n",
    "            if nx not in p or nx == p[0]:\n",
    "                newExPaths.append(p + (nx,))\n",
    "    if len(newExPaths) > 0:\n",
    "        findSimplePath(graph, newExPaths, paths)\n",
    "\n",
    "\n",
    "def findPrimePaths(graph):\n",
    "    exPaths = [(n,) for n in graph.nodes()]\n",
    "    simplePaths = []\n",
    "    findSimplePath(graph, exPaths, simplePaths)\n",
    "    primePaths = sorted(simplePaths, key=lambda a: (len(a), a))\n",
    "    return primePaths"
   ]
  },
  {
   "cell_type": "code",
   "execution_count": 124,
   "metadata": {},
   "outputs": [
    {
     "name": "stdout",
     "output_type": "stream",
     "text": [
      "[1, 2, 3, 4, 1]\n",
      "[2, 3, 4, 1, 2]\n",
      "[3, 4, 1, 2, 3]\n",
      "[4, 1, 2, 3, 4]\n"
     ]
    }
   ],
   "source": [
    "prime_paths = findPrimePaths(graph)\n",
    "for p in prime_paths:\n",
    "    print(list(p))"
   ]
  },
  {
   "cell_type": "markdown",
   "metadata": {},
   "source": [
    "### Check Test Path"
   ]
  },
  {
   "cell_type": "code",
   "execution_count": 133,
   "metadata": {},
   "outputs": [],
   "source": [
    "def isTestPath(path):\n",
    "    if len(path) < 2:\n",
    "        return False\n",
    "    \n",
    "    if path[0] not in initial_nodes or path[-1] not in end_nodes:\n",
    "        return False\n",
    "    \n",
    "    for i in range(len(path) - 1):\n",
    "        if not graph.has_edge(path[i], path[i+1]):\n",
    "            return False\n",
    "    \n",
    "    return True\n",
    "\n",
    "\n",
    "def merge_paths(path1, path2):\n",
    "    k = min(len(path1), len(path2))\n",
    "    while k >= 1:\n",
    "        if path1[-k:] == path2[:k]:\n",
    "            merged_path = path1 + path2[k:]\n",
    "            return merged_path, True\n",
    "        k -= 1\n",
    "    merged_path = path1\n",
    "    return merged_path, False"
   ]
  },
  {
   "cell_type": "code",
   "execution_count": 134,
   "metadata": {},
   "outputs": [
    {
     "name": "stdout",
     "output_type": "stream",
     "text": [
      "False\n",
      "([3, 4, 1, 2, 3, 5, 2], True)\n",
      "([3, 4, 1, 2, 3, 5], False)\n"
     ]
    }
   ],
   "source": [
    "print(isTestPath([1, 2, 4]))\n",
    "\n",
    "print(merge_paths([3, 4, 1, 2, 3, 5], [3, 5, 2]))\n",
    "\n",
    "print(merge_paths([3, 4, 1, 2, 3, 5], [1, 5, 2]))"
   ]
  },
  {
   "cell_type": "code",
   "execution_count": null,
   "metadata": {},
   "outputs": [],
   "source": []
  }
 ],
 "metadata": {
  "kernelspec": {
   "display_name": "Python 3",
   "language": "python",
   "name": "python3"
  },
  "language_info": {
   "codemirror_mode": {
    "name": "ipython",
    "version": 3
   },
   "file_extension": ".py",
   "mimetype": "text/x-python",
   "name": "python",
   "nbconvert_exporter": "python",
   "pygments_lexer": "ipython3",
   "version": "3.10.0"
  }
 },
 "nbformat": 4,
 "nbformat_minor": 2
}
