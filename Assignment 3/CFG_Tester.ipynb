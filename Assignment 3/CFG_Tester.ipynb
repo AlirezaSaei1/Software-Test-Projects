{
 "cells": [
  {
   "cell_type": "markdown",
   "metadata": {},
   "source": [
    "# CFG Tester Code"
   ]
  },
  {
   "cell_type": "markdown",
   "metadata": {},
   "source": [
    "### Required Libraries"
   ]
  },
  {
   "cell_type": "code",
   "execution_count": 1,
   "metadata": {},
   "outputs": [],
   "source": [
    "import json\n",
    "import networkx as nx\n",
    "import matplotlib.pyplot as plt"
   ]
  },
  {
   "cell_type": "markdown",
   "metadata": {},
   "source": [
    "### Read Graph Infor from JSON"
   ]
  },
  {
   "cell_type": "code",
   "execution_count": 2,
   "metadata": {},
   "outputs": [],
   "source": [
    "def readGraphFromJSON(file_path):\n",
    "    with open(file_path, 'r') as file:\n",
    "        data = json.load(file)\n",
    "\n",
    "    edges = data['edges']\n",
    "    nodes = data['nodes']\n",
    "    initial_nodes = data['initial_nodes']\n",
    "    end_nodes = data['end_nodes']\n",
    "\n",
    "    return edges, nodes, initial_nodes, end_nodes\n",
    "\n",
    "file_path = 'Graphs/Graph1.json'\n",
    "edges, nodes, initial_nodes, end_nodes = readGraphFromJSON(file_path)"
   ]
  },
  {
   "cell_type": "markdown",
   "metadata": {},
   "source": [
    "### Create a directed graph"
   ]
  },
  {
   "cell_type": "code",
   "execution_count": 3,
   "metadata": {},
   "outputs": [],
   "source": [
    "def define_graph(edges, nodes, initial_nodes, end_nodes):\n",
    "    # Create an empty graph\n",
    "    graph = nx.DiGraph()\n",
    "    \n",
    "    # Add nodes to the graph\n",
    "    graph.add_nodes_from(nodes)\n",
    "    \n",
    "    # Add edges to the graph\n",
    "    graph.add_edges_from(edges)\n",
    "    \n",
    "    return graph, initial_nodes, end_nodes\n",
    "\n",
    "\n",
    "graph, initial_nodes, end_nodes = define_graph(edges, nodes, initial_nodes, end_nodes)"
   ]
  },
  {
   "cell_type": "markdown",
   "metadata": {},
   "source": [
    "### Plot graph"
   ]
  },
  {
   "cell_type": "code",
   "execution_count": 4,
   "metadata": {},
   "outputs": [
    {
     "data": {
      "image/png": "[encoded data removed]",
      "text/plain": [
       "<Figure size 640x480 with 1 Axes>"
      ]
     },
     "metadata": {},
     "output_type": "display_data"
    }
   ],
   "source": [
    "pos = nx.spring_layout(graph)  # Positions of the nodes\n",
    "nx.draw(graph, pos, with_labels=True, node_size=500, font_size=12, font_weight='bold')\n",
    "\n",
    "# Draw start and end nodes with different colors\n",
    "nx.draw_networkx_nodes(graph, pos, nodelist=initial_nodes, node_color='green', node_size=500)\n",
    "nx.draw_networkx_nodes(graph, pos, nodelist=end_nodes, node_color='red', node_size=500)\n",
    "\n",
    "plt.show()"
   ]
  },
  {
   "cell_type": "markdown",
   "metadata": {},
   "source": [
    "### Extract Prime Paths"
   ]
  },
  {
   "cell_type": "code",
   "execution_count": 5,
   "metadata": {},
   "outputs": [],
   "source": [
    "def isPrimePath(path, graph):\n",
    "    if len(path) >= 2 and path[0] == path[-1]:\n",
    "        return True\n",
    "    elif reachedHead(path, graph) and reachedEnd(path, graph):\n",
    "        return True\n",
    "    else:\n",
    "        return False\n",
    "\n",
    "\n",
    "def reachedHead(path, graph):\n",
    "    former_nodes = [n for n in graph.predecessors(path[0])]\n",
    "    for n in former_nodes:\n",
    "        if n not in path or n == path[-1]:\n",
    "            return False\n",
    "    return True\n",
    "\n",
    "\n",
    "def reachedEnd(path, graph):\n",
    "    later_nodes = [n for n in graph.successors(path[-1])]\n",
    "    for n in later_nodes:\n",
    "        if n not in path or n == path[0]:\n",
    "            return False\n",
    "    return True\n",
    "\n",
    "\n",
    "def extendable(path, graph):\n",
    "    if isPrimePath(path, graph) or reachedEnd(path, graph):\n",
    "        return False\n",
    "    else:\n",
    "        return True\n",
    "\n",
    "\n",
    "def findSimplePath(graph, exPaths, paths=[]):\n",
    "    paths.extend(filter(lambda p: isPrimePath(p, graph), exPaths))\n",
    "    exPaths = filter(lambda p: extendable(p, graph), exPaths)\n",
    "    newExPaths = []\n",
    "    for p in exPaths:\n",
    "        for nx in graph.successors(p[-1]):\n",
    "            if nx not in p or nx == p[0]:\n",
    "                newExPaths.append(p + (nx,))\n",
    "    if len(newExPaths) > 0:\n",
    "        findSimplePath(graph, newExPaths, paths)\n",
    "\n",
    "\n",
    "def findPrimePaths(graph):\n",
    "    exPaths = [(n,) for n in graph.nodes()]\n",
    "    simplePaths = []\n",
    "    findSimplePath(graph, exPaths, simplePaths)\n",
    "    primePaths = sorted(simplePaths, key=lambda a: (len(a), a))\n",
    "    return primePaths"
   ]
  },
  {
   "cell_type": "code",
   "execution_count": 6,
   "metadata": {},
   "outputs": [
    {
     "name": "stdout",
     "output_type": "stream",
     "text": [
      "[1, 2, 3, 4, 1]\n",
      "[2, 3, 4, 1, 2]\n",
      "[3, 4, 1, 2, 3]\n",
      "[4, 1, 2, 3, 4]\n"
     ]
    }
   ],
   "source": [
    "prime_paths = findPrimePaths(graph)\n",
    "for p in prime_paths:\n",
    "    print(list(p))"
   ]
  },
  {
   "cell_type": "markdown",
   "metadata": {},
   "source": [
    "### Test Paths"
   ]
  },
  {
   "cell_type": "code",
   "execution_count": 7,
   "metadata": {},
   "outputs": [],
   "source": [
    "def getTestPaths(prime_paths):\n",
    "    test_paths = []\n",
    "\n",
    "    for i in range(len(prime_paths)):\n",
    "        current_path = prime_paths[i]\n",
    "\n",
    "        for j in range(len(prime_paths)):\n",
    "            if i != j:\n",
    "                other_path = prime_paths[j]\n",
    "                merged_path, is_mergeable = merge_paths(current_path, other_path)\n",
    "\n",
    "                if is_mergeable and isTestPath(merged_path):\n",
    "                    test_paths.append(merged_path)\n",
    "\n",
    "    return test_paths\n",
    "\n",
    "\n",
    "def isTestPath(path):\n",
    "    if len(path) < 2:\n",
    "        return False\n",
    "    \n",
    "    if path[0] not in initial_nodes or path[-1] not in end_nodes:\n",
    "        return False\n",
    "    \n",
    "    for i in range(len(path) - 1):\n",
    "        if not graph.has_edge(path[i], path[i+1]):\n",
    "            return False\n",
    "    \n",
    "    return True\n",
    "\n",
    "\n",
    "def merge_paths(path1, path2):\n",
    "    k = min(len(path1), len(path2))\n",
    "    while k >= 1:\n",
    "        if path1[-k:] == path2[:k]:\n",
    "            merged_path = path1 + path2[k:]\n",
    "            return merged_path, True\n",
    "        k -= 1\n",
    "    merged_path = path1\n",
    "    return merged_path, False"
   ]
  },
  {
   "cell_type": "code",
   "execution_count": 8,
   "metadata": {},
   "outputs": [
    {
     "name": "stdout",
     "output_type": "stream",
     "text": [
      "[(1, 2, 3, 4, 1, 2), (1, 2, 3, 4, 1, 2, 3, 4), (3, 4, 1, 2, 3, 4, 1, 2), (3, 4, 1, 2, 3, 4)]\n",
      "4\n"
     ]
    }
   ],
   "source": [
    "test_paths = getTestPaths(prime_paths)\n",
    "print(test_paths)\n",
    "print(len(test_paths))"
   ]
  }
 ],
 "metadata": {
  "kernelspec": {
   "display_name": "Python 3",
   "language": "python",
   "name": "python3"
  },
  "language_info": {
   "codemirror_mode": {
    "name": "ipython",
    "version": 3
   },
   "file_extension": ".py",
   "mimetype": "text/x-python",
   "name": "python",
   "nbconvert_exporter": "python",
   "pygments_lexer": "ipython3",
   "version": "3.10.0"
  }
 },
 "nbformat": 4,
 "nbformat_minor": 2
}
