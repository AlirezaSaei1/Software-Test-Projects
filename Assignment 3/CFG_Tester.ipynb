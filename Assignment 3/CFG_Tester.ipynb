{
 "cells": [
  {
   "cell_type": "markdown",
   "metadata": {},
   "source": [
    "# CFG Tester Code"
   ]
  },
  {
   "cell_type": "markdown",
   "metadata": {},
   "source": [
    "### Required Libraries"
   ]
  },
  {
   "cell_type": "code",
   "execution_count": 58,
   "metadata": {},
   "outputs": [],
   "source": [
    "import json\n",
    "import networkx as nx\n",
    "import matplotlib.pyplot as plt\n",
    "import unittest"
   ]
  },
  {
   "cell_type": "markdown",
   "metadata": {},
   "source": [
    "### Read Graph Infor from JSON"
   ]
  },
  {
   "cell_type": "code",
   "execution_count": 59,
   "metadata": {},
   "outputs": [],
   "source": [
    "def readGraphFromJSON(file_path):\n",
    "    with open(file_path, 'r') as file:\n",
    "        data = json.load(file)\n",
    "\n",
    "    edges = data['edges']\n",
    "    nodes = data['nodes']\n",
    "    initial_nodes = data['initial_nodes']\n",
    "    end_nodes = data['end_nodes']\n",
    "\n",
    "    return edges, nodes, initial_nodes, end_nodes\n",
    "\n",
    "file_path = 'Graphs/Graph2.json'\n",
    "edges, nodes, initial_nodes, end_nodes = readGraphFromJSON(file_path)"
   ]
  },
  {
   "cell_type": "markdown",
   "metadata": {},
   "source": [
    "### Create a directed graph"
   ]
  },
  {
   "cell_type": "code",
   "execution_count": 60,
   "metadata": {},
   "outputs": [],
   "source": [
    "def define_graph(edges, nodes, initial_nodes, end_nodes):\n",
    "    # Create an empty graph\n",
    "    graph = nx.DiGraph()\n",
    "    \n",
    "    # Add nodes to the graph\n",
    "    graph.add_nodes_from(nodes)\n",
    "    \n",
    "    # Add edges to the graph\n",
    "    graph.add_edges_from(edges)\n",
    "    \n",
    "    return graph, initial_nodes, end_nodes\n",
    "\n",
    "\n",
    "graph, initial_nodes, end_nodes = define_graph(edges, nodes, initial_nodes, end_nodes)"
   ]
  },
  {
   "cell_type": "markdown",
   "metadata": {},
   "source": [
    "### Plot graph"
   ]
  },
  {
   "cell_type": "code",
   "execution_count": 61,
   "metadata": {},
   "outputs": [
    {
     "data": {
      "image/png": "[encoded data removed]",
      "text/plain": [
       "<Figure size 640x480 with 1 Axes>"
      ]
     },
     "metadata": {},
     "output_type": "display_data"
    }
   ],
   "source": [
    "pos = nx.spring_layout(graph)  # Positions of the nodes\n",
    "nx.draw(graph, pos, with_labels=True, node_size=500, font_size=12, font_weight='bold')\n",
    "\n",
    "# Draw start and end nodes with different colors\n",
    "nx.draw_networkx_nodes(graph, pos, nodelist=initial_nodes, node_color='green', node_size=500)\n",
    "nx.draw_networkx_nodes(graph, pos, nodelist=end_nodes, node_color='red', node_size=500)\n",
    "\n",
    "plt.show()"
   ]
  },
  {
   "cell_type": "markdown",
   "metadata": {},
   "source": [
    "### Extract Prime Paths"
   ]
  },
  {
   "cell_type": "code",
   "execution_count": 62,
   "metadata": {},
   "outputs": [],
   "source": [
    "def isPrimePath(path, graph):\n",
    "    if len(path) >= 2 and path[0] == path[-1]:\n",
    "        return True\n",
    "    elif reachedHead(path, graph) and reachedEnd(path, graph):\n",
    "        return True\n",
    "    else:\n",
    "        return False\n",
    "\n",
    "\n",
    "def reachedHead(path, graph):\n",
    "    former_nodes = [n for n in graph.predecessors(path[0])]\n",
    "    for n in former_nodes:\n",
    "        if n not in path or n == path[-1]:\n",
    "            return False\n",
    "    return True\n",
    "\n",
    "\n",
    "def reachedEnd(path, graph):\n",
    "    later_nodes = [n for n in graph.successors(path[-1])]\n",
    "    for n in later_nodes:\n",
    "        if n not in path or n == path[0]:\n",
    "            return False\n",
    "    return True\n",
    "\n",
    "\n",
    "def extendable(path, graph):\n",
    "    if isPrimePath(path, graph) or reachedEnd(path, graph):\n",
    "        return False\n",
    "    else:\n",
    "        return True\n",
    "\n",
    "\n",
    "def findSimplePath(graph, exPaths, paths=[]):\n",
    "    paths.extend(filter(lambda p: isPrimePath(p, graph), exPaths))\n",
    "    exPaths = filter(lambda p: extendable(p, graph), exPaths)\n",
    "    newExPaths = []\n",
    "    for p in exPaths:\n",
    "        for nx in graph.successors(p[-1]):\n",
    "            if nx not in p or nx == p[0]:\n",
    "                newExPaths.append(p + (nx,))\n",
    "    if len(newExPaths) > 0:\n",
    "        findSimplePath(graph, newExPaths, paths)\n",
    "\n",
    "\n",
    "def findPrimePaths(graph):\n",
    "    exPaths = [(n,) for n in graph.nodes()]\n",
    "    simplePaths = []\n",
    "    findSimplePath(graph, exPaths, simplePaths)\n",
    "    primePaths = sorted(simplePaths, key=lambda a: (len(a), a))\n",
    "    return primePaths"
   ]
  },
  {
   "cell_type": "code",
   "execution_count": 63,
   "metadata": {},
   "outputs": [
    {
     "name": "stdout",
     "output_type": "stream",
     "text": [
      "Number of Prime Paths Found: 1\n",
      "[1, 2, 3, 4, 5]\n"
     ]
    }
   ],
   "source": [
    "prime_paths = findPrimePaths(graph)\n",
    "print(\"Number of Prime Paths Found:\", len(prime_paths))\n",
    "for p in prime_paths:\n",
    "    print(list(p))"
   ]
  },
  {
   "cell_type": "markdown",
   "metadata": {},
   "source": [
    "### Test Paths"
   ]
  },
  {
   "cell_type": "code",
   "execution_count": 64,
   "metadata": {},
   "outputs": [],
   "source": [
    "def getTestPaths(prime_paths, mode=\"subset\"):\n",
    "    test_paths = []\n",
    "\n",
    "    for i in range(len(prime_paths)):\n",
    "        current_path = prime_paths[i]\n",
    "\n",
    "        # If the current prime path is a test path, add it to the result\n",
    "        if isTestPath(current_path):\n",
    "            test_paths.append(current_path)\n",
    "            continue\n",
    "\n",
    "        for j in range(len(prime_paths)):\n",
    "            if i != j:\n",
    "                other_path = prime_paths[j]\n",
    "                merged_path, is_mergeable = merge_paths(current_path, other_path)\n",
    "\n",
    "                if is_mergeable and isTestPath(merged_path):\n",
    "                    is_valid_path = True\n",
    "\n",
    "                    # Check if merged path is a subpath of any existing test path\n",
    "                    for existing_path in test_paths:\n",
    "                        if mode == \"subset\":\n",
    "                            if isSubpathWithoutSidetripsAndDetours(merged_path, existing_path):\n",
    "                                # Remove the existing test path as it is a subpath of the merged path\n",
    "                                test_paths.remove(existing_path)\n",
    "                            elif isSubpathWithoutSidetripsAndDetours(existing_path, merged_path):\n",
    "                                is_valid_path = False\n",
    "                                break\n",
    "                        elif mode == \"superset\":\n",
    "                            if isSubpathWithoutSidetripsAndDetours(existing_path, merged_path):\n",
    "                                # Remove the existing test path as it is a superpath of the merged path\n",
    "                                test_paths.remove(existing_path)\n",
    "                            elif isSubpathWithoutSidetripsAndDetours(merged_path, existing_path):\n",
    "                                is_valid_path = False\n",
    "                                break\n",
    "\n",
    "                    if is_valid_path:\n",
    "                        test_paths.append(merged_path)\n",
    "\n",
    "    return test_paths\n",
    "\n",
    "\n",
    "def isSubpathWithoutSidetripsAndDetours(subpath, path):\n",
    "    if len(subpath) >= len(path):\n",
    "        return False\n",
    "\n",
    "    for i in range(len(path) - len(subpath) + 1):\n",
    "        if path[i:i + len(subpath)] == subpath:\n",
    "            # Check if there are any sidetrips or detours in the subpath\n",
    "            for j in range(i, i + len(subpath) - 1):\n",
    "                if not graph.has_edge(path[j], path[j + 1]):\n",
    "                    return False\n",
    "            return True\n",
    "\n",
    "    return False\n",
    "\n",
    "\n",
    "def isTestPath(path):\n",
    "    if len(path) < 2:\n",
    "        return False\n",
    "    \n",
    "    if path[0] not in initial_nodes or path[-1] not in end_nodes:\n",
    "        return False\n",
    "    \n",
    "    for i in range(len(path) - 1):\n",
    "        if not graph.has_edge(path[i], path[i+1]):\n",
    "            return False\n",
    "    \n",
    "    return True\n",
    "\n",
    "\n",
    "def merge_paths(path1, path2):\n",
    "    k = min(len(path1), len(path2))\n",
    "    while k >= 1:\n",
    "        if path1[-k:] == path2[:k]:\n",
    "            merged_path = path1 + path2[k:]\n",
    "            return merged_path, True\n",
    "        k -= 1\n",
    "    merged_path = path1\n",
    "    return merged_path, False"
   ]
  },
  {
   "cell_type": "code",
   "execution_count": 65,
   "metadata": {},
   "outputs": [
    {
     "name": "stdout",
     "output_type": "stream",
     "text": [
      "Count: 1\n",
      "Test Paths: [(1, 2, 3, 4, 5)]\n"
     ]
    }
   ],
   "source": [
    "test_paths = getTestPaths(prime_paths, 'subset')\n",
    "if len(test_paths) > 0:\n",
    "    print(\"Count:\", len(test_paths))\n",
    "    print(\"Test Paths:\", test_paths)\n",
    "else:\n",
    "    print(\"No test paths can be found\")"
   ]
  },
  {
   "cell_type": "markdown",
   "metadata": {},
   "source": [
    "### Convert tuples to lists"
   ]
  },
  {
   "cell_type": "code",
   "execution_count": 66,
   "metadata": {},
   "outputs": [
    {
     "name": "stdout",
     "output_type": "stream",
     "text": [
      "Prime Paths: [[1, 2, 3, 4, 5]]\n",
      "Test Paths: [[1, 2, 3, 4, 5]]\n"
     ]
    }
   ],
   "source": [
    "prime_paths = [list(t) for t in prime_paths]\n",
    "test_paths = [list(t) for t in test_paths]\n",
    "\n",
    "print(\"Prime Paths:\", prime_paths)\n",
    "print(\"Test Paths:\", test_paths)"
   ]
  },
  {
   "cell_type": "markdown",
   "metadata": {},
   "source": [
    "### Prime Path Coverage"
   ]
  },
  {
   "cell_type": "code",
   "execution_count": 67,
   "metadata": {},
   "outputs": [],
   "source": [
    "def convert_to_strings(list_of_lists):\n",
    "    result = []\n",
    "    for inner_list in list_of_lists:\n",
    "        string_representation = '-'.join(map(str, inner_list))\n",
    "        result.append(string_representation)\n",
    "    return result\n",
    "\n",
    "\n",
    "def prime_path_coverage(prime_paths, test_paths):\n",
    "    ppaths = convert_to_strings(prime_paths)\n",
    "    tpaths = convert_to_strings(sorted(test_paths, key=len))\n",
    "\n",
    "    covered_paths = set()\n",
    "    tests = set()\n",
    "\n",
    "    for tp in tpaths:\n",
    "        for pp in ppaths:\n",
    "            if pp in tp:\n",
    "                covered_paths.add(pp)\n",
    "                tests.add(tp)\n",
    "\n",
    "                if len(covered_paths) == len(prime_paths):\n",
    "                    return tests"
   ]
  },
  {
   "cell_type": "code",
   "execution_count": 68,
   "metadata": {},
   "outputs": [
    {
     "name": "stdout",
     "output_type": "stream",
     "text": [
      "1\n",
      "{'1-2-3-4-5'}\n"
     ]
    }
   ],
   "source": [
    "covered_paths = prime_path_coverage(prime_paths, test_paths)\n",
    "print(len(covered_paths))\n",
    "print(covered_paths)"
   ]
  },
  {
   "cell_type": "markdown",
   "metadata": {},
   "source": [
    "# Test\n",
    "### Test Graph 1"
   ]
  },
  {
   "cell_type": "code",
   "execution_count": 69,
   "metadata": {},
   "outputs": [],
   "source": [
    "class Graph1Tester(unittest.TestCase):\n",
    "    def setUp(self):\n",
    "        file_path = 'Graphs/Graph1.json'\n",
    "        edges, nodes, initial_nodes, end_nodes = readGraphFromJSON(file_path)\n",
    "        self.graph, self.initial_nodes, self.end_nodes = define_graph(edges, nodes, initial_nodes, end_nodes)\n",
    "        self.prime_paths = findPrimePaths(self.graph)\n",
    "        self.test_paths = getTestPaths(self.prime_paths, mode='subset')\n",
    "\n",
    "    def test_test_paths_validity(self):\n",
    "        for test_path in self.test_paths:\n",
    "            self.assertTrue(isTestPath(test_path))\n"
   ]
  },
  {
   "cell_type": "markdown",
   "metadata": {},
   "source": [
    "### Test Graph 2"
   ]
  },
  {
   "cell_type": "code",
   "execution_count": 70,
   "metadata": {},
   "outputs": [],
   "source": [
    "class Graph2Tester(unittest.TestCase):\n",
    "    def setUp(self):\n",
    "        file_path = 'Graphs/Graph2.json'\n",
    "        edges, nodes, initial_nodes, end_nodes = readGraphFromJSON(file_path)\n",
    "        self.graph, self.initial_nodes, self.end_nodes = define_graph(edges, nodes, initial_nodes, end_nodes)\n",
    "        self.prime_paths = findPrimePaths(self.graph)\n",
    "        self.test_paths = getTestPaths(self.prime_paths, mode='subset')\n",
    "\n",
    "    def test_test_paths_validity(self):\n",
    "        for test_path in self.test_paths:\n",
    "            self.assertTrue(isTestPath(test_path))\n"
   ]
  },
  {
   "cell_type": "markdown",
   "metadata": {},
   "source": [
    "## Runner Code"
   ]
  },
  {
   "cell_type": "code",
   "execution_count": 71,
   "metadata": {},
   "outputs": [
    {
     "name": "stderr",
     "output_type": "stream",
     "text": [
      "..\n",
      "----------------------------------------------------------------------\n",
      "Ran 2 tests in 0.004s\n",
      "\n",
      "OK\n"
     ]
    },
    {
     "data": {
      "text/plain": [
       "<unittest.runner.TextTestResult run=2 errors=0 failures=0>"
      ]
     },
     "execution_count": 71,
     "metadata": {},
     "output_type": "execute_result"
    }
   ],
   "source": [
    "# Create a TestSuite and add the test classes\n",
    "suite = unittest.TestSuite()\n",
    "suite.addTest(unittest.makeSuite(Graph1Tester))\n",
    "suite.addTest(unittest.makeSuite(Graph2Tester))\n",
    "\n",
    "# Create a TextTestRunner instance\n",
    "runner = unittest.TextTestRunner()\n",
    "\n",
    "# Run the tests and display the results\n",
    "runner.run(suite)"
   ]
  }
 ],
 "metadata": {
  "kernelspec": {
   "display_name": "Python 3",
   "language": "python",
   "name": "python3"
  },
  "language_info": {
   "codemirror_mode": {
    "name": "ipython",
    "version": 3
   },
   "file_extension": ".py",
   "mimetype": "text/x-python",
   "name": "python",
   "nbconvert_exporter": "python",
   "pygments_lexer": "ipython3",
   "version": "3.10.0"
  }
 },
 "nbformat": 4,
 "nbformat_minor": 2
}
